{
 "cells": [
  {
   "cell_type": "code",
   "execution_count": null,
   "id": "acb2c45b",
   "metadata": {},
   "outputs": [],
   "source": [
    "import pandas as pd\n",
    "import numpy as np\n",
    "import matplotlib.pyplot as plt\n",
    "import os, math\n",
    "import warnings\n",
    "warnings.filterwarnings(\"ignore\")\n",
    "\n",
    "from sklearn.preprocessing import OneHotEncoder, MinMaxScaler\n",
    "from sklearn.pipeline import Pipeline as SklearnPipeline\n",
    "from sklearn.compose import ColumnTransformer\n",
    "from imblearn.pipeline import Pipeline\n",
    "from imblearn.over_sampling import SMOTE\n",
    "from sklearn.model_selection import train_test_split, GridSearchCV\n",
    "from sklearn.neighbors import KNeighborsClassifier\n",
    "from sklearn.tree import DecisionTreeClassifier\n",
    "from sklearn.ensemble import RandomForestClassifier\n",
    "from sklearn.linear_model import LogisticRegression\n",
    "from sklearn.metrics import classification_report, confusion_matrix\n",
    "\n",
    "import joblib"
   ]
  },
  {
   "cell_type": "code",
   "execution_count": 2,
   "id": "ef0a6a88",
   "metadata": {},
   "outputs": [
    {
     "name": "stdout",
     "output_type": "stream",
     "text": [
      "working directory: d:\\Dev\\credit-approval-classification\n"
     ]
    }
   ],
   "source": [
    "print(\"working directory:\", os.getcwd())"
   ]
  },
  {
   "cell_type": "markdown",
   "id": "6d66340b",
   "metadata": {},
   "source": [
    "### Import Datasets"
   ]
  },
  {
   "cell_type": "code",
   "execution_count": 3,
   "id": "4539ca4b",
   "metadata": {},
   "outputs": [],
   "source": [
    "app = pd.read_csv(r\"datasets\\application_record.csv\")\n",
    "cre = pd.read_csv(r\"datasets\\credit_record.csv\")"
   ]
  },
  {
   "cell_type": "markdown",
   "id": "b086d232",
   "metadata": {},
   "source": [
    "### Dataset Shapes"
   ]
  },
  {
   "cell_type": "code",
   "execution_count": 4,
   "id": "b7883f53",
   "metadata": {},
   "outputs": [
    {
     "name": "stdout",
     "output_type": "stream",
     "text": [
      "Application Records | column: 18 | row: 438557\n",
      "Credit Records | column: 3 | row: 1048575\n"
     ]
    }
   ],
   "source": [
    "print(\"Application Records | column:\", app.shape[1], \"| row:\", app.shape[0])\n",
    "print(\"Credit Records | column:\", cre.shape[1], \"| row:\", cre.shape[0])"
   ]
  },
  {
   "cell_type": "markdown",
   "id": "0c57a459",
   "metadata": {},
   "source": [
    "### Datasets Type"
   ]
  },
  {
   "cell_type": "code",
   "execution_count": 5,
   "id": "08a3097a",
   "metadata": {},
   "outputs": [
    {
     "name": "stdout",
     "output_type": "stream",
     "text": [
      "Application Records columns name:\n",
      "ID                       int64\n",
      "CODE_GENDER             object\n",
      "FLAG_OWN_CAR            object\n",
      "FLAG_OWN_REALTY         object\n",
      "CNT_CHILDREN             int64\n",
      "AMT_INCOME_TOTAL       float64\n",
      "NAME_INCOME_TYPE        object\n",
      "NAME_EDUCATION_TYPE     object\n",
      "NAME_FAMILY_STATUS      object\n",
      "NAME_HOUSING_TYPE       object\n",
      "DAYS_BIRTH               int64\n",
      "DAYS_EMPLOYED            int64\n",
      "FLAG_MOBIL               int64\n",
      "FLAG_WORK_PHONE          int64\n",
      "FLAG_PHONE               int64\n",
      "FLAG_EMAIL               int64\n",
      "OCCUPATION_TYPE         object\n",
      "CNT_FAM_MEMBERS        float64\n",
      "dtype: object\n",
      "########################\n",
      "Credit Records columns name:\n",
      "ID                 int64\n",
      "MONTHS_BALANCE     int64\n",
      "STATUS            object\n",
      "dtype: object\n"
     ]
    }
   ],
   "source": [
    "print(\"Application Records columns name:\")\n",
    "print(app.dtypes)\n",
    "print(\"#\" * 24)\n",
    "print(\"Credit Records columns name:\")\n",
    "print(cre.dtypes)"
   ]
  },
  {
   "cell_type": "markdown",
   "id": "e3aed9a5",
   "metadata": {},
   "source": [
    "### Rename Columns"
   ]
  },
  {
   "cell_type": "code",
   "execution_count": 6,
   "id": "2f0487ef",
   "metadata": {},
   "outputs": [],
   "source": [
    "app.rename(columns={'CODE_GENDER':'Gender','FLAG_OWN_CAR':'Car','FLAG_OWN_REALTY':'Realty',\n",
    "                    'CNT_CHILDREN':'Children','AMT_INCOME_TOTAL':'IncomeTotal',\n",
    "                    'NAME_INCOME_TYPE':'IncomeType','NAME_EDUCATION_TYPE':'Edu','NAME_FAMILY_STATUS':'FamStatus',\n",
    "                    'NAME_HOUSING_TYPE':'Housing','DAYS_BIRTH':'Birthday', 'DAYS_EMPLOYED':'DaysEmployed',\n",
    "                    'FLAG_EMAIL':'Email','FLAG_WORK_PHONE':'Workphone',\n",
    "                    'FLAG_MOBIL':'Mobil','FLAG_PHONE':'Phone','CNT_FAM_MEMBERS':'FamSize',\n",
    "                    'OCCUPATION_TYPE':'Occupation'\n",
    "                    },inplace=True)"
   ]
  },
  {
   "cell_type": "markdown",
   "id": "850913a1",
   "metadata": {},
   "source": [
    "### Dataset `ID` Unique"
   ]
  },
  {
   "cell_type": "code",
   "execution_count": 7,
   "id": "75720af5",
   "metadata": {},
   "outputs": [
    {
     "name": "stdout",
     "output_type": "stream",
     "text": [
      "Application Records Unique ID: 438510\n",
      "Credit Records Unique ID: 45985\n"
     ]
    }
   ],
   "source": [
    "print(\"Application Records Unique ID:\",  app['ID'].nunique())\n",
    "print(\"Credit Records Unique ID:\", cre['ID'].nunique())"
   ]
  },
  {
   "cell_type": "markdown",
   "id": "7123f536",
   "metadata": {},
   "source": [
    "### Null Values"
   ]
  },
  {
   "cell_type": "code",
   "execution_count": 8,
   "id": "b796737a",
   "metadata": {},
   "outputs": [
    {
     "name": "stdout",
     "output_type": "stream",
     "text": [
      "Null Values in Application Records:\n",
      "ID                   0\n",
      "Gender               0\n",
      "Car                  0\n",
      "Realty               0\n",
      "Children             0\n",
      "IncomeTotal          0\n",
      "IncomeType           0\n",
      "Edu                  0\n",
      "FamStatus            0\n",
      "Housing              0\n",
      "Birthday             0\n",
      "DaysEmployed         0\n",
      "Mobil                0\n",
      "Workphone            0\n",
      "Phone                0\n",
      "Email                0\n",
      "Occupation      134203\n",
      "FamSize              0\n",
      "dtype: int64\n",
      "########################\n",
      "Null Values in Credit Records:\n",
      "ID                0\n",
      "MONTHS_BALANCE    0\n",
      "STATUS            0\n",
      "dtype: int64\n"
     ]
    }
   ],
   "source": [
    "app_null = app.isna().sum()\n",
    "cre_null = cre.isna().sum()\n",
    "print(\"Null Values in Application Records:\")\n",
    "print(app_null)\n",
    "print(\"#\" * 24)\n",
    "print(\"Null Values in Credit Records:\")\n",
    "print(cre_null)"
   ]
  },
  {
   "cell_type": "code",
   "execution_count": 9,
   "id": "875619b6",
   "metadata": {},
   "outputs": [
    {
     "data": {
      "image/png": "[encoded data removed]",
      "text/plain": [
       "<Figure size 600x600 with 1 Axes>"
      ]
     },
     "metadata": {},
     "output_type": "display_data"
    }
   ],
   "source": [
    "plt.figure(figsize=(6, 6))\n",
    "plt.bar(app_null.index, app_null.values, color='skyblue')\n",
    "plt.xlabel('Columns')\n",
    "plt.ylabel('Counts')\n",
    "plt.title('Null Values')\n",
    "plt.grid(axis='y', linestyle='--', alpha=0.5)\n",
    "plt.xticks(rotation=90, ha='right')\n",
    "plt.tight_layout()\n",
    "plt.show()"
   ]
  },
  {
   "cell_type": "code",
   "execution_count": 9,
   "id": "3cc61611",
   "metadata": {},
   "outputs": [
    {
     "data": {
      "image/png": "[encoded data removed]",
      "text/plain": [
       "<Figure size 640x480 with 1 Axes>"
      ]
     },
     "metadata": {},
     "output_type": "display_data"
    }
   ],
   "source": [
    "occupation = app['Occupation'].value_counts(dropna=False)\n",
    "# occupation\n",
    "\n",
    "plt.barh(occupation.index.astype(str), occupation.values)\n",
    "plt.xlabel('Types')\n",
    "plt.ylabel('Counts')\n",
    "plt.title('Occupation Types Dist')\n",
    "plt.tight_layout()\n",
    "plt.show()"
   ]
  },
  {
   "cell_type": "code",
   "execution_count": 10,
   "id": "6e111008",
   "metadata": {},
   "outputs": [],
   "source": [
    "app['Occupation'] = app['Occupation'].replace(np.nan, \"Unknown\")"
   ]
  },
  {
   "cell_type": "markdown",
   "id": "111e43df",
   "metadata": {},
   "source": [
    "### Duplicate Values"
   ]
  },
  {
   "cell_type": "code",
   "execution_count": 11,
   "id": "d270c993",
   "metadata": {},
   "outputs": [
    {
     "name": "stdout",
     "output_type": "stream",
     "text": [
      "duplicate rows in Application Records: 0\n",
      "duplicate rows in Application Records by ID: 47\n",
      "duplicate rows in Credit Records: 0\n"
     ]
    }
   ],
   "source": [
    "print(\"duplicate rows in Application Records:\", app.duplicated().sum())\n",
    "print(\"duplicate rows in Application Records by ID:\", app.duplicated(subset=['ID']).sum())\n",
    "print(\"duplicate rows in Credit Records:\",cre.duplicated().sum())"
   ]
  },
  {
   "cell_type": "markdown",
   "id": "e7eb0828",
   "metadata": {},
   "source": [
    "### Drop Duplicate Values by `ID`"
   ]
  },
  {
   "cell_type": "code",
   "execution_count": 12,
   "id": "2fd2e082",
   "metadata": {},
   "outputs": [],
   "source": [
    "app.drop_duplicates(subset=['ID'], inplace=True)"
   ]
  },
  {
   "cell_type": "markdown",
   "id": "c326edaa",
   "metadata": {},
   "source": [
    "### Convert `DaysEmployed` to `WorkYear` in `Application Records`"
   ]
  },
  {
   "cell_type": "code",
   "execution_count": 13,
   "id": "b2ed26ca",
   "metadata": {},
   "outputs": [
    {
     "data": {
      "text/plain": [
       "DaysEmployed\n",
       " 365243    75324\n",
       "-218         262\n",
       "-1678        251\n",
       "-249         241\n",
       "-978         240\n",
       "           ...  \n",
       "-7118          1\n",
       "-6623          1\n",
       "-10472         1\n",
       "-7976          1\n",
       "-13661         1\n",
       "Name: count, Length: 9406, dtype: int64"
      ]
     },
     "execution_count": 13,
     "metadata": {},
     "output_type": "execute_result"
    }
   ],
   "source": [
    "app['DaysEmployed'].value_counts()"
   ]
  },
  {
   "cell_type": "code",
   "execution_count": 16,
   "id": "7a24ac11",
   "metadata": {},
   "outputs": [
    {
     "data": {
      "text/plain": [
       "0    12\n",
       "1    12\n",
       "2     3\n",
       "Name: WorkYear, dtype: int64"
      ]
     },
     "execution_count": 16,
     "metadata": {},
     "output_type": "execute_result"
    }
   ],
   "source": [
    "app['WorkYear'] = app['DaysEmployed'].apply(lambda x: math.floor(-(x / 365)) if x < 0 else -1)\n",
    "# -1 : unemployed\n",
    "app['WorkYear'].head(3)"
   ]
  },
  {
   "cell_type": "markdown",
   "id": "0c6234fa",
   "metadata": {},
   "source": [
    "### Convert `Birthday` to `Age` in `Application Records`"
   ]
  },
  {
   "cell_type": "code",
   "execution_count": 17,
   "id": "86de649b",
   "metadata": {},
   "outputs": [
    {
     "data": {
      "text/plain": [
       "0    32\n",
       "1    32\n",
       "2    58\n",
       "Name: Age, dtype: int64"
      ]
     },
     "execution_count": 17,
     "metadata": {},
     "output_type": "execute_result"
    }
   ],
   "source": [
    "app['Age'] = (-app['Birthday'] / 365).astype(int)\n",
    "app['Age'].head(3)"
   ]
  },
  {
   "cell_type": "markdown",
   "id": "19d7f54e",
   "metadata": {},
   "source": [
    "### Drop `DaysEmployed` and `Birthday` from `Application Records`"
   ]
  },
  {
   "cell_type": "code",
   "execution_count": 18,
   "id": "5a9a59ab",
   "metadata": {},
   "outputs": [],
   "source": [
    "app.drop(columns=['DaysEmployed','Birthday'], inplace=True)"
   ]
  },
  {
   "cell_type": "markdown",
   "id": "2c10e9b7",
   "metadata": {},
   "source": [
    "### Extract Categorical Features in `Application Records`"
   ]
  },
  {
   "cell_type": "code",
   "execution_count": 19,
   "id": "35aa888c",
   "metadata": {},
   "outputs": [
    {
     "data": {
      "text/plain": [
       "['Gender',\n",
       " 'Car',\n",
       " 'Realty',\n",
       " 'IncomeType',\n",
       " 'Edu',\n",
       " 'FamStatus',\n",
       " 'Housing',\n",
       " 'Occupation']"
      ]
     },
     "execution_count": 19,
     "metadata": {},
     "output_type": "execute_result"
    }
   ],
   "source": [
    "cat_cols = list(app.select_dtypes(include='object').columns)\n",
    "cat_cols"
   ]
  },
  {
   "cell_type": "code",
   "execution_count": 20,
   "id": "fe006114",
   "metadata": {},
   "outputs": [],
   "source": [
    "def show_fig(df, columns):\n",
    "    n_col = 2\n",
    "    n_row = math.ceil(len(columns) / 2)\n",
    "    \n",
    "    cmap = plt.get_cmap('Pastel1')\n",
    "    colors = [cmap(i) for i in np.linspace(0, 1, len(columns))]\n",
    "    \n",
    "    plt.figure(figsize=(5 * n_col, 4 * n_row))\n",
    "    \n",
    "    for idx, item in enumerate(columns):\n",
    "        val_count = df[item].value_counts(normalize=True) * 100\n",
    "        \n",
    "        plt.subplot(n_row, n_col, idx + 1)\n",
    "        plt.title(f\"{item} Dist\")\n",
    "        bar = plt.barh(val_count.index, val_count.values, color=colors)\n",
    "        \n",
    "        legend_labels = [f\"{k}: {v:.2f}%\" for k, v in zip(val_count.index, val_count.values)]\n",
    "        \n",
    "        plt.legend(bar, legend_labels, loc='best', fontsize=6)\n",
    "        \n",
    "    plt.tight_layout() \n",
    "    plt.show()"
   ]
  },
  {
   "cell_type": "code",
   "execution_count": 20,
   "id": "f3ab3a55",
   "metadata": {},
   "outputs": [
    {
     "data": {
      "image/png": "[encoded data removed]",
      "text/plain": [
       "<Figure size 1000x1600 with 8 Axes>"
      ]
     },
     "metadata": {},
     "output_type": "display_data"
    }
   ],
   "source": [
    "show_fig(app, cat_cols)"
   ]
  },
  {
   "cell_type": "markdown",
   "id": "9b2b9a5f",
   "metadata": {},
   "source": [
    "### Convert `Gender`, `Car`, `Realty` in `Application Records` to `Numerical`"
   ]
  },
  {
   "cell_type": "code",
   "execution_count": 23,
   "id": "74c3fb5d",
   "metadata": {},
   "outputs": [],
   "source": [
    "app['Gender'] = app['Gender'].replace({'M':0, 'F':1})\n",
    "app['Car'] = app['Car'].replace({'N':0, 'Y':1})\n",
    "app['Realty'] = app['Realty'].replace({'N':0, 'Y':1})"
   ]
  },
  {
   "cell_type": "markdown",
   "id": "04a451de",
   "metadata": {},
   "source": [
    "### Remove `Gender`, `Car`, `Realty` from `cat_cols`"
   ]
  },
  {
   "cell_type": "code",
   "execution_count": 24,
   "id": "78698c19",
   "metadata": {},
   "outputs": [],
   "source": [
    "cat_cols.remove('Gender')\n",
    "cat_cols.remove('Car')\n",
    "cat_cols.remove('Realty')"
   ]
  },
  {
   "cell_type": "code",
   "execution_count": 25,
   "id": "d82c92a5",
   "metadata": {},
   "outputs": [
    {
     "data": {
      "text/plain": [
       "['IncomeType', 'Edu', 'FamStatus', 'Housing', 'Occupation']"
      ]
     },
     "execution_count": 25,
     "metadata": {},
     "output_type": "execute_result"
    }
   ],
   "source": [
    "cat_cols"
   ]
  },
  {
   "cell_type": "markdown",
   "id": "b423c48f",
   "metadata": {},
   "source": [
    "### Extract Numerical Features in `Application Records`"
   ]
  },
  {
   "cell_type": "code",
   "execution_count": 26,
   "id": "3588a173",
   "metadata": {},
   "outputs": [],
   "source": [
    "num_cols = list(app.select_dtypes(include=['int', 'float']).columns)"
   ]
  },
  {
   "cell_type": "code",
   "execution_count": 27,
   "id": "6caac9ac",
   "metadata": {},
   "outputs": [
    {
     "data": {
      "text/plain": [
       "['ID',\n",
       " 'Gender',\n",
       " 'Car',\n",
       " 'Realty',\n",
       " 'Children',\n",
       " 'IncomeTotal',\n",
       " 'Mobil',\n",
       " 'Workphone',\n",
       " 'Phone',\n",
       " 'Email',\n",
       " 'FamSize',\n",
       " 'WorkYear',\n",
       " 'Age']"
      ]
     },
     "execution_count": 27,
     "metadata": {},
     "output_type": "execute_result"
    }
   ],
   "source": [
    "num_cols"
   ]
  },
  {
   "cell_type": "markdown",
   "id": "f4e15c99",
   "metadata": {},
   "source": [
    "### Clean `MONTHS_BALANCE` value in `Credit Records`"
   ]
  },
  {
   "cell_type": "code",
   "execution_count": 28,
   "id": "52e497b0",
   "metadata": {},
   "outputs": [],
   "source": [
    "cre['MONTHS_BALANCE'] = abs(cre['MONTHS_BALANCE'])"
   ]
  },
  {
   "cell_type": "markdown",
   "id": "38170662",
   "metadata": {},
   "source": [
    "### Replace `STATUS` value in `Credit Records`"
   ]
  },
  {
   "cell_type": "code",
   "execution_count": 29,
   "id": "16e7c4ef",
   "metadata": {},
   "outputs": [],
   "source": [
    "cre['STATUS'] = cre['STATUS'].replace({'X': 0, 'C': 0})\n",
    "cre['STATUS'] = cre['STATUS'].astype(int)"
   ]
  },
  {
   "cell_type": "code",
   "execution_count": 30,
   "id": "9fc7a2a3",
   "metadata": {},
   "outputs": [
    {
     "data": {
      "text/plain": [
       "STATUS\n",
       "0    0.986464\n",
       "1    0.013536\n",
       "Name: proportion, dtype: float64"
      ]
     },
     "execution_count": 30,
     "metadata": {},
     "output_type": "execute_result"
    }
   ],
   "source": [
    "cre['STATUS'] = cre['STATUS'].apply(lambda x: 1 if x >= 1 else 0)\n",
    "cre['STATUS'].value_counts(normalize=True)\n",
    "# 0 : good\n",
    "# 1 : bad"
   ]
  },
  {
   "cell_type": "markdown",
   "id": "409c529e",
   "metadata": {},
   "source": [
    "### Calculate `Number of Months per ID` credit history"
   ]
  },
  {
   "cell_type": "code",
   "execution_count": 31,
   "id": "08a473cf",
   "metadata": {},
   "outputs": [
    {
     "data": {
      "text/html": [
       "<div>\n",
       "<style scoped>\n",
       "    .dataframe tbody tr th:only-of-type {\n",
       "        vertical-align: middle;\n",
       "    }\n",
       "\n",
       "    .dataframe tbody tr th {\n",
       "        vertical-align: top;\n",
       "    }\n",
       "\n",
       "    .dataframe thead th {\n",
       "        text-align: right;\n",
       "    }\n",
       "</style>\n",
       "<table border=\"1\" class=\"dataframe\">\n",
       "  <thead>\n",
       "    <tr style=\"text-align: right;\">\n",
       "      <th></th>\n",
       "      <th>ID</th>\n",
       "      <th>Months</th>\n",
       "    </tr>\n",
       "  </thead>\n",
       "  <tbody>\n",
       "    <tr>\n",
       "      <th>0</th>\n",
       "      <td>5001711</td>\n",
       "      <td>4</td>\n",
       "    </tr>\n",
       "    <tr>\n",
       "      <th>1</th>\n",
       "      <td>5001712</td>\n",
       "      <td>19</td>\n",
       "    </tr>\n",
       "    <tr>\n",
       "      <th>2</th>\n",
       "      <td>5001713</td>\n",
       "      <td>22</td>\n",
       "    </tr>\n",
       "    <tr>\n",
       "      <th>3</th>\n",
       "      <td>5001714</td>\n",
       "      <td>15</td>\n",
       "    </tr>\n",
       "    <tr>\n",
       "      <th>4</th>\n",
       "      <td>5001715</td>\n",
       "      <td>60</td>\n",
       "    </tr>\n",
       "    <tr>\n",
       "      <th>...</th>\n",
       "      <td>...</td>\n",
       "      <td>...</td>\n",
       "    </tr>\n",
       "    <tr>\n",
       "      <th>45980</th>\n",
       "      <td>5150482</td>\n",
       "      <td>18</td>\n",
       "    </tr>\n",
       "    <tr>\n",
       "      <th>45981</th>\n",
       "      <td>5150483</td>\n",
       "      <td>18</td>\n",
       "    </tr>\n",
       "    <tr>\n",
       "      <th>45982</th>\n",
       "      <td>5150484</td>\n",
       "      <td>13</td>\n",
       "    </tr>\n",
       "    <tr>\n",
       "      <th>45983</th>\n",
       "      <td>5150485</td>\n",
       "      <td>2</td>\n",
       "    </tr>\n",
       "    <tr>\n",
       "      <th>45984</th>\n",
       "      <td>5150487</td>\n",
       "      <td>30</td>\n",
       "    </tr>\n",
       "  </tbody>\n",
       "</table>\n",
       "<p>45985 rows × 2 columns</p>\n",
       "</div>"
      ],
      "text/plain": [
       "            ID  Months\n",
       "0      5001711       4\n",
       "1      5001712      19\n",
       "2      5001713      22\n",
       "3      5001714      15\n",
       "4      5001715      60\n",
       "...        ...     ...\n",
       "45980  5150482      18\n",
       "45981  5150483      18\n",
       "45982  5150484      13\n",
       "45983  5150485       2\n",
       "45984  5150487      30\n",
       "\n",
       "[45985 rows x 2 columns]"
      ]
     },
     "execution_count": 31,
     "metadata": {},
     "output_type": "execute_result"
    }
   ],
   "source": [
    "cre_ID_Months = cre.groupby(['ID']).size().to_frame('Months').reset_index()\n",
    "cre_ID_Months"
   ]
  },
  {
   "cell_type": "markdown",
   "id": "647187b1",
   "metadata": {},
   "source": [
    "### Calculate `Number of Overdue Months per ID` credit history"
   ]
  },
  {
   "cell_type": "code",
   "execution_count": 32,
   "id": "f30eb64b",
   "metadata": {},
   "outputs": [
    {
     "data": {
      "text/html": [
       "<div>\n",
       "<style scoped>\n",
       "    .dataframe tbody tr th:only-of-type {\n",
       "        vertical-align: middle;\n",
       "    }\n",
       "\n",
       "    .dataframe tbody tr th {\n",
       "        vertical-align: top;\n",
       "    }\n",
       "\n",
       "    .dataframe thead th {\n",
       "        text-align: right;\n",
       "    }\n",
       "</style>\n",
       "<table border=\"1\" class=\"dataframe\">\n",
       "  <thead>\n",
       "    <tr style=\"text-align: right;\">\n",
       "      <th></th>\n",
       "      <th>ID</th>\n",
       "      <th>Overdue Months</th>\n",
       "    </tr>\n",
       "  </thead>\n",
       "  <tbody>\n",
       "    <tr>\n",
       "      <th>26566</th>\n",
       "      <td>5085886</td>\n",
       "      <td>49</td>\n",
       "    </tr>\n",
       "    <tr>\n",
       "      <th>36473</th>\n",
       "      <td>5117313</td>\n",
       "      <td>48</td>\n",
       "    </tr>\n",
       "    <tr>\n",
       "      <th>42858</th>\n",
       "      <td>5142362</td>\n",
       "      <td>48</td>\n",
       "    </tr>\n",
       "    <tr>\n",
       "      <th>42857</th>\n",
       "      <td>5142361</td>\n",
       "      <td>48</td>\n",
       "    </tr>\n",
       "    <tr>\n",
       "      <th>35684</th>\n",
       "      <td>5116304</td>\n",
       "      <td>46</td>\n",
       "    </tr>\n",
       "    <tr>\n",
       "      <th>...</th>\n",
       "      <td>...</td>\n",
       "      <td>...</td>\n",
       "    </tr>\n",
       "    <tr>\n",
       "      <th>45980</th>\n",
       "      <td>5150482</td>\n",
       "      <td>0</td>\n",
       "    </tr>\n",
       "    <tr>\n",
       "      <th>45981</th>\n",
       "      <td>5150483</td>\n",
       "      <td>0</td>\n",
       "    </tr>\n",
       "    <tr>\n",
       "      <th>45982</th>\n",
       "      <td>5150484</td>\n",
       "      <td>0</td>\n",
       "    </tr>\n",
       "    <tr>\n",
       "      <th>45983</th>\n",
       "      <td>5150485</td>\n",
       "      <td>0</td>\n",
       "    </tr>\n",
       "    <tr>\n",
       "      <th>45968</th>\n",
       "      <td>5150465</td>\n",
       "      <td>0</td>\n",
       "    </tr>\n",
       "  </tbody>\n",
       "</table>\n",
       "<p>45985 rows × 2 columns</p>\n",
       "</div>"
      ],
      "text/plain": [
       "            ID  Overdue Months\n",
       "26566  5085886              49\n",
       "36473  5117313              48\n",
       "42858  5142362              48\n",
       "42857  5142361              48\n",
       "35684  5116304              46\n",
       "...        ...             ...\n",
       "45980  5150482               0\n",
       "45981  5150483               0\n",
       "45982  5150484               0\n",
       "45983  5150485               0\n",
       "45968  5150465               0\n",
       "\n",
       "[45985 rows x 2 columns]"
      ]
     },
     "execution_count": 32,
     "metadata": {},
     "output_type": "execute_result"
    }
   ],
   "source": [
    "cre_ID_Months_Overdue = cre.groupby(\"ID\")[\"STATUS\"].sum().to_frame(\"Overdue Months\").reset_index()\n",
    "cre_ID_Months_Overdue.sort_values(by='Overdue Months', ascending=False)"
   ]
  },
  {
   "cell_type": "code",
   "execution_count": 33,
   "id": "10679e15",
   "metadata": {},
   "outputs": [
    {
     "data": {
      "text/html": [
       "<div>\n",
       "<style scoped>\n",
       "    .dataframe tbody tr th:only-of-type {\n",
       "        vertical-align: middle;\n",
       "    }\n",
       "\n",
       "    .dataframe tbody tr th {\n",
       "        vertical-align: top;\n",
       "    }\n",
       "\n",
       "    .dataframe thead th {\n",
       "        text-align: right;\n",
       "    }\n",
       "</style>\n",
       "<table border=\"1\" class=\"dataframe\">\n",
       "  <thead>\n",
       "    <tr style=\"text-align: right;\">\n",
       "      <th></th>\n",
       "      <th>ID</th>\n",
       "      <th>Overdue Months</th>\n",
       "    </tr>\n",
       "  </thead>\n",
       "  <tbody>\n",
       "    <tr>\n",
       "      <th>0</th>\n",
       "      <td>5001711</td>\n",
       "      <td>0</td>\n",
       "    </tr>\n",
       "  </tbody>\n",
       "</table>\n",
       "</div>"
      ],
      "text/plain": [
       "        ID  Overdue Months\n",
       "0  5001711               0"
      ]
     },
     "execution_count": 33,
     "metadata": {},
     "output_type": "execute_result"
    }
   ],
   "source": [
    "cre_ID_Months_Overdue[cre_ID_Months_Overdue['ID'] == 5001711]"
   ]
  },
  {
   "cell_type": "markdown",
   "id": "0310da94",
   "metadata": {},
   "source": [
    "### Create `New Credit Records` dataframe"
   ]
  },
  {
   "cell_type": "code",
   "execution_count": 34,
   "id": "ebe96777",
   "metadata": {},
   "outputs": [],
   "source": [
    "new_cre = pd.DataFrame(cre.groupby([\"ID\"]).agg(max)).reset_index()"
   ]
  },
  {
   "cell_type": "code",
   "execution_count": 35,
   "id": "d199cf15",
   "metadata": {},
   "outputs": [
    {
     "data": {
      "text/html": [
       "<div>\n",
       "<style scoped>\n",
       "    .dataframe tbody tr th:only-of-type {\n",
       "        vertical-align: middle;\n",
       "    }\n",
       "\n",
       "    .dataframe tbody tr th {\n",
       "        vertical-align: top;\n",
       "    }\n",
       "\n",
       "    .dataframe thead th {\n",
       "        text-align: right;\n",
       "    }\n",
       "</style>\n",
       "<table border=\"1\" class=\"dataframe\">\n",
       "  <thead>\n",
       "    <tr style=\"text-align: right;\">\n",
       "      <th></th>\n",
       "      <th>ID</th>\n",
       "      <th>MONTHS_BALANCE</th>\n",
       "      <th>STATUS</th>\n",
       "    </tr>\n",
       "  </thead>\n",
       "  <tbody>\n",
       "    <tr>\n",
       "      <th>0</th>\n",
       "      <td>5001711</td>\n",
       "      <td>3</td>\n",
       "      <td>0</td>\n",
       "    </tr>\n",
       "    <tr>\n",
       "      <th>1</th>\n",
       "      <td>5001712</td>\n",
       "      <td>18</td>\n",
       "      <td>0</td>\n",
       "    </tr>\n",
       "    <tr>\n",
       "      <th>2</th>\n",
       "      <td>5001713</td>\n",
       "      <td>21</td>\n",
       "      <td>0</td>\n",
       "    </tr>\n",
       "  </tbody>\n",
       "</table>\n",
       "</div>"
      ],
      "text/plain": [
       "        ID  MONTHS_BALANCE  STATUS\n",
       "0  5001711               3       0\n",
       "1  5001712              18       0\n",
       "2  5001713              21       0"
      ]
     },
     "execution_count": 35,
     "metadata": {},
     "output_type": "execute_result"
    }
   ],
   "source": [
    "new_cre.head(3)"
   ]
  },
  {
   "cell_type": "code",
   "execution_count": 38,
   "id": "7498dc1f",
   "metadata": {},
   "outputs": [
    {
     "name": "stdout",
     "output_type": "stream",
     "text": [
      "New Credit Records | column: 3 | row: 45985\n",
      "New Credit Records ID has same value as Credit Records ID\n"
     ]
    }
   ],
   "source": [
    "print(\"New Credit Records | column:\", new_cre.shape[1], \"| row:\", new_cre.shape[0])\n",
    "print(\"New Credit Records ID has same value as Credit Records ID\" if new_cre.shape[0] == cre['ID'].nunique() else \"Not Same\")"
   ]
  },
  {
   "cell_type": "markdown",
   "id": "9613531d",
   "metadata": {},
   "source": [
    "### Merge `Application Records` and `New Credit Records` dataframe"
   ]
  },
  {
   "cell_type": "code",
   "execution_count": 39,
   "id": "dad9eb43",
   "metadata": {},
   "outputs": [
    {
     "data": {
      "text/html": [
       "<div>\n",
       "<style scoped>\n",
       "    .dataframe tbody tr th:only-of-type {\n",
       "        vertical-align: middle;\n",
       "    }\n",
       "\n",
       "    .dataframe tbody tr th {\n",
       "        vertical-align: top;\n",
       "    }\n",
       "\n",
       "    .dataframe thead th {\n",
       "        text-align: right;\n",
       "    }\n",
       "</style>\n",
       "<table border=\"1\" class=\"dataframe\">\n",
       "  <thead>\n",
       "    <tr style=\"text-align: right;\">\n",
       "      <th></th>\n",
       "      <th>ID</th>\n",
       "      <th>Gender</th>\n",
       "      <th>Car</th>\n",
       "      <th>Realty</th>\n",
       "      <th>Children</th>\n",
       "      <th>IncomeTotal</th>\n",
       "      <th>IncomeType</th>\n",
       "      <th>Edu</th>\n",
       "      <th>FamStatus</th>\n",
       "      <th>Housing</th>\n",
       "      <th>Mobil</th>\n",
       "      <th>Workphone</th>\n",
       "      <th>Phone</th>\n",
       "      <th>Email</th>\n",
       "      <th>Occupation</th>\n",
       "      <th>FamSize</th>\n",
       "      <th>WorkYear</th>\n",
       "      <th>Age</th>\n",
       "      <th>MONTHS_BALANCE</th>\n",
       "      <th>STATUS</th>\n",
       "    </tr>\n",
       "  </thead>\n",
       "  <tbody>\n",
       "    <tr>\n",
       "      <th>0</th>\n",
       "      <td>5008804</td>\n",
       "      <td>0</td>\n",
       "      <td>1</td>\n",
       "      <td>1</td>\n",
       "      <td>0</td>\n",
       "      <td>427500.0</td>\n",
       "      <td>Working</td>\n",
       "      <td>Higher education</td>\n",
       "      <td>Civil marriage</td>\n",
       "      <td>Rented apartment</td>\n",
       "      <td>1</td>\n",
       "      <td>1</td>\n",
       "      <td>0</td>\n",
       "      <td>0</td>\n",
       "      <td>Unknown</td>\n",
       "      <td>2.0</td>\n",
       "      <td>12.443836</td>\n",
       "      <td>32</td>\n",
       "      <td>15</td>\n",
       "      <td>1</td>\n",
       "    </tr>\n",
       "    <tr>\n",
       "      <th>1</th>\n",
       "      <td>5008805</td>\n",
       "      <td>0</td>\n",
       "      <td>1</td>\n",
       "      <td>1</td>\n",
       "      <td>0</td>\n",
       "      <td>427500.0</td>\n",
       "      <td>Working</td>\n",
       "      <td>Higher education</td>\n",
       "      <td>Civil marriage</td>\n",
       "      <td>Rented apartment</td>\n",
       "      <td>1</td>\n",
       "      <td>1</td>\n",
       "      <td>0</td>\n",
       "      <td>0</td>\n",
       "      <td>Unknown</td>\n",
       "      <td>2.0</td>\n",
       "      <td>12.443836</td>\n",
       "      <td>32</td>\n",
       "      <td>14</td>\n",
       "      <td>1</td>\n",
       "    </tr>\n",
       "  </tbody>\n",
       "</table>\n",
       "</div>"
      ],
      "text/plain": [
       "        ID  Gender  Car  Realty  Children  IncomeTotal IncomeType  \\\n",
       "0  5008804       0    1       1         0     427500.0    Working   \n",
       "1  5008805       0    1       1         0     427500.0    Working   \n",
       "\n",
       "                Edu       FamStatus           Housing  Mobil  Workphone  \\\n",
       "0  Higher education  Civil marriage  Rented apartment      1          1   \n",
       "1  Higher education  Civil marriage  Rented apartment      1          1   \n",
       "\n",
       "   Phone  Email Occupation  FamSize   WorkYear  Age  MONTHS_BALANCE  STATUS  \n",
       "0      0      0    Unknown      2.0  12.443836   32              15       1  \n",
       "1      0      0    Unknown      2.0  12.443836   32              14       1  "
      ]
     },
     "execution_count": 39,
     "metadata": {},
     "output_type": "execute_result"
    }
   ],
   "source": [
    "data = app.merge(new_cre, on='ID', how='inner')\n",
    "data.head(2)"
   ]
  },
  {
   "cell_type": "code",
   "execution_count": 40,
   "id": "6e32deff",
   "metadata": {},
   "outputs": [
    {
     "data": {
      "text/plain": [
       "(36457, 20)"
      ]
     },
     "execution_count": 40,
     "metadata": {},
     "output_type": "execute_result"
    }
   ],
   "source": [
    "data.shape"
   ]
  },
  {
   "cell_type": "markdown",
   "id": "714c1ad5",
   "metadata": {},
   "source": [
    "### Check `STATUS` info"
   ]
  },
  {
   "cell_type": "code",
   "execution_count": 41,
   "id": "885c71a8",
   "metadata": {},
   "outputs": [
    {
     "name": "stdout",
     "output_type": "stream",
     "text": [
      "0\n",
      "int64\n",
      "[1 0]\n",
      "STATUS\n",
      "0    32166\n",
      "1     4291\n",
      "Name: count, dtype: int64\n",
      "STATUS\n",
      "0    0.8823\n",
      "1    0.1177\n",
      "Name: proportion, dtype: float64\n"
     ]
    }
   ],
   "source": [
    "print(data['STATUS'].isna().sum())\n",
    "print(data['STATUS'].dtypes)\n",
    "print(data['STATUS'].unique())\n",
    "print(data['STATUS'].value_counts())\n",
    "print(data['STATUS'].value_counts(normalize=True))"
   ]
  },
  {
   "cell_type": "code",
   "execution_count": 43,
   "id": "f077b62e",
   "metadata": {},
   "outputs": [
    {
     "name": "stdout",
     "output_type": "stream",
     "text": [
      "ID                0\n",
      "Gender            0\n",
      "Car               0\n",
      "Realty            0\n",
      "Children          0\n",
      "IncomeTotal       0\n",
      "IncomeType        0\n",
      "Edu               0\n",
      "FamStatus         0\n",
      "Housing           0\n",
      "Mobil             0\n",
      "Workphone         0\n",
      "Phone             0\n",
      "Email             0\n",
      "Occupation        0\n",
      "FamSize           0\n",
      "WorkYear          0\n",
      "Age               0\n",
      "MONTHS_BALANCE    0\n",
      "STATUS            0\n",
      "dtype: int64\n"
     ]
    }
   ],
   "source": [
    "print(data.isna().sum())"
   ]
  },
  {
   "cell_type": "markdown",
   "id": "70fc4713",
   "metadata": {},
   "source": [
    "### Drop `MONTHS_BALANCE` Column"
   ]
  },
  {
   "cell_type": "code",
   "execution_count": 44,
   "id": "a67c6176",
   "metadata": {},
   "outputs": [
    {
     "data": {
      "text/html": [
       "<div>\n",
       "<style scoped>\n",
       "    .dataframe tbody tr th:only-of-type {\n",
       "        vertical-align: middle;\n",
       "    }\n",
       "\n",
       "    .dataframe tbody tr th {\n",
       "        vertical-align: top;\n",
       "    }\n",
       "\n",
       "    .dataframe thead th {\n",
       "        text-align: right;\n",
       "    }\n",
       "</style>\n",
       "<table border=\"1\" class=\"dataframe\">\n",
       "  <thead>\n",
       "    <tr style=\"text-align: right;\">\n",
       "      <th></th>\n",
       "      <th>ID</th>\n",
       "      <th>Gender</th>\n",
       "      <th>Car</th>\n",
       "      <th>Realty</th>\n",
       "      <th>Children</th>\n",
       "      <th>IncomeTotal</th>\n",
       "      <th>IncomeType</th>\n",
       "      <th>Edu</th>\n",
       "      <th>FamStatus</th>\n",
       "      <th>Housing</th>\n",
       "      <th>Mobil</th>\n",
       "      <th>Workphone</th>\n",
       "      <th>Phone</th>\n",
       "      <th>Email</th>\n",
       "      <th>Occupation</th>\n",
       "      <th>FamSize</th>\n",
       "      <th>WorkYear</th>\n",
       "      <th>Age</th>\n",
       "      <th>STATUS</th>\n",
       "    </tr>\n",
       "  </thead>\n",
       "  <tbody>\n",
       "    <tr>\n",
       "      <th>0</th>\n",
       "      <td>5008804</td>\n",
       "      <td>0</td>\n",
       "      <td>1</td>\n",
       "      <td>1</td>\n",
       "      <td>0</td>\n",
       "      <td>427500.0</td>\n",
       "      <td>Working</td>\n",
       "      <td>Higher education</td>\n",
       "      <td>Civil marriage</td>\n",
       "      <td>Rented apartment</td>\n",
       "      <td>1</td>\n",
       "      <td>1</td>\n",
       "      <td>0</td>\n",
       "      <td>0</td>\n",
       "      <td>Unknown</td>\n",
       "      <td>2.0</td>\n",
       "      <td>12.443836</td>\n",
       "      <td>32</td>\n",
       "      <td>1</td>\n",
       "    </tr>\n",
       "    <tr>\n",
       "      <th>1</th>\n",
       "      <td>5008805</td>\n",
       "      <td>0</td>\n",
       "      <td>1</td>\n",
       "      <td>1</td>\n",
       "      <td>0</td>\n",
       "      <td>427500.0</td>\n",
       "      <td>Working</td>\n",
       "      <td>Higher education</td>\n",
       "      <td>Civil marriage</td>\n",
       "      <td>Rented apartment</td>\n",
       "      <td>1</td>\n",
       "      <td>1</td>\n",
       "      <td>0</td>\n",
       "      <td>0</td>\n",
       "      <td>Unknown</td>\n",
       "      <td>2.0</td>\n",
       "      <td>12.443836</td>\n",
       "      <td>32</td>\n",
       "      <td>1</td>\n",
       "    </tr>\n",
       "  </tbody>\n",
       "</table>\n",
       "</div>"
      ],
      "text/plain": [
       "        ID  Gender  Car  Realty  Children  IncomeTotal IncomeType  \\\n",
       "0  5008804       0    1       1         0     427500.0    Working   \n",
       "1  5008805       0    1       1         0     427500.0    Working   \n",
       "\n",
       "                Edu       FamStatus           Housing  Mobil  Workphone  \\\n",
       "0  Higher education  Civil marriage  Rented apartment      1          1   \n",
       "1  Higher education  Civil marriage  Rented apartment      1          1   \n",
       "\n",
       "   Phone  Email Occupation  FamSize   WorkYear  Age  STATUS  \n",
       "0      0      0    Unknown      2.0  12.443836   32       1  \n",
       "1      0      0    Unknown      2.0  12.443836   32       1  "
      ]
     },
     "execution_count": 44,
     "metadata": {},
     "output_type": "execute_result"
    }
   ],
   "source": [
    "data.drop('MONTHS_BALANCE', axis=1, inplace=True)\n",
    "data.head(2)"
   ]
  },
  {
   "cell_type": "markdown",
   "id": "8f0ec171",
   "metadata": {},
   "source": [
    "### Splitting Train and Test Data"
   ]
  },
  {
   "cell_type": "code",
   "execution_count": 45,
   "id": "1afc8936",
   "metadata": {},
   "outputs": [],
   "source": [
    "X = data.drop('STATUS', axis=1)\n",
    "y = data['STATUS']"
   ]
  },
  {
   "cell_type": "code",
   "execution_count": 46,
   "id": "ca543488",
   "metadata": {},
   "outputs": [],
   "source": [
    "X_train, X_test, y_train, y_test = train_test_split(X, y, test_size=0.2, random_state=42, shuffle=True)"
   ]
  },
  {
   "cell_type": "code",
   "execution_count": 48,
   "id": "5227e029",
   "metadata": {},
   "outputs": [
    {
     "name": "stdout",
     "output_type": "stream",
     "text": [
      "train size | X: 29165 y: 29165\n",
      "test size | X: 7292 y: 7292\n"
     ]
    }
   ],
   "source": [
    "print(\"train size | X:\", X_train.shape[0], \"y:\", y_train.shape[0])\n",
    "print(\"test size | X:\", X_test.shape[0], \"y:\", y_test.shape[0])"
   ]
  },
  {
   "cell_type": "markdown",
   "id": "58364d84",
   "metadata": {},
   "source": [
    "### Scaling Numerical Column and Encoding Categorical Columns"
   ]
  },
  {
   "cell_type": "code",
   "execution_count": 49,
   "id": "c1d23672",
   "metadata": {},
   "outputs": [],
   "source": [
    "scaler =  MinMaxScaler()\n",
    "encode = OneHotEncoder(handle_unknown='ignore')"
   ]
  },
  {
   "cell_type": "markdown",
   "id": "e44b698d",
   "metadata": {},
   "source": [
    "### Preprocessing with ColumnTransform"
   ]
  },
  {
   "cell_type": "code",
   "execution_count": 50,
   "id": "edefa083",
   "metadata": {},
   "outputs": [],
   "source": [
    "preprocessor = ColumnTransformer(\n",
    "    transformers=[\n",
    "        ('num', scaler, num_cols),\n",
    "        ('cat', encode, cat_cols)\n",
    "    ]\n",
    ")"
   ]
  },
  {
   "cell_type": "markdown",
   "id": "56efdd46",
   "metadata": {},
   "source": [
    "### Using SMOTE"
   ]
  },
  {
   "cell_type": "code",
   "execution_count": 51,
   "id": "c1c604d6",
   "metadata": {},
   "outputs": [],
   "source": [
    "smote = SMOTE(random_state=42)"
   ]
  },
  {
   "cell_type": "markdown",
   "id": "8f996583",
   "metadata": {},
   "source": [
    "### RandomForest Model"
   ]
  },
  {
   "cell_type": "code",
   "execution_count": 52,
   "id": "42393b0b",
   "metadata": {},
   "outputs": [],
   "source": [
    "pipe_rf = Pipeline([\n",
    "    ('preprocess', preprocessor),\n",
    "    ('smote', smote),\n",
    "    ('model', RandomForestClassifier(random_state=42, class_weight='balanced'))\n",
    "])\n",
    "\n",
    "param_rf = {\n",
    "    'model__n_estimators': [50, 100, 200],\n",
    "    'model__max_depth': [None, 5, 10],\n",
    "    'model__min_samples_split': [2, 5]\n",
    "}"
   ]
  },
  {
   "cell_type": "code",
   "execution_count": 53,
   "id": "481acdf6",
   "metadata": {},
   "outputs": [
    {
     "name": "stdout",
     "output_type": "stream",
     "text": [
      "Random Forest Best Params: {'model__max_depth': None, 'model__min_samples_split': 5, 'model__n_estimators': 100}\n"
     ]
    }
   ],
   "source": [
    "grid_rf = GridSearchCV(pipe_rf, param_rf, cv=5, n_jobs=-1, scoring='f1')\n",
    "grid_rf.fit(X_train, y_train)\n",
    "\n",
    "print(\"Random Forest Best Params:\", grid_rf.best_params_)"
   ]
  },
  {
   "cell_type": "code",
   "execution_count": 54,
   "id": "b3132e91",
   "metadata": {},
   "outputs": [],
   "source": [
    "model_rf = grid_rf.best_estimator_"
   ]
  },
  {
   "cell_type": "markdown",
   "id": "0cc84919",
   "metadata": {},
   "source": [
    "### Evaluate Model"
   ]
  },
  {
   "cell_type": "code",
   "execution_count": 59,
   "id": "a87ca746",
   "metadata": {},
   "outputs": [],
   "source": [
    "def evaluation(model_name):\n",
    "    # acc = accuracy_score(y_test, model_name.predict(X_test))\n",
    "    report = classification_report(y_test, model_name.predict(X_test))\n",
    "    conf = confusion_matrix(y_test, model_name.predict(X_test))\n",
    "    # print(f\"{model_name} Accuracy : {acc*100:.2f}%\")\n",
    "    print(f\"{report}\")\n",
    "    print(\"Confusion Matrix\")\n",
    "    print(f\"{conf}\")\n",
    "    \n",
    "# y_test : True labels (correct answers)\n",
    "# model.predict(X_test) : Predicted labels from model"
   ]
  },
  {
   "cell_type": "markdown",
   "id": "7efae147",
   "metadata": {},
   "source": [
    "### Evaluate __RandomForest Model__"
   ]
  },
  {
   "cell_type": "code",
   "execution_count": 60,
   "id": "d39b5ac8",
   "metadata": {},
   "outputs": [
    {
     "name": "stdout",
     "output_type": "stream",
     "text": [
      "              precision    recall  f1-score   support\n",
      "\n",
      "           0       0.92      0.94      0.93      6420\n",
      "           1       0.47      0.41      0.44       872\n",
      "\n",
      "    accuracy                           0.87      7292\n",
      "   macro avg       0.70      0.67      0.68      7292\n",
      "weighted avg       0.87      0.87      0.87      7292\n",
      "\n",
      "Confusion Matrix\n",
      "[[6025  395]\n",
      " [ 517  355]]\n"
     ]
    }
   ],
   "source": [
    "evaluation(model_rf)"
   ]
  },
  {
   "cell_type": "markdown",
   "id": "e24cb9a6",
   "metadata": {},
   "source": [
    "### Prediction Pipeline __RandomForest Model__"
   ]
  },
  {
   "cell_type": "code",
   "execution_count": null,
   "id": "3624c8da",
   "metadata": {},
   "outputs": [],
   "source": [
    "pred_preprocess = model_rf.named_steps['preprocess']\n",
    "pred_model = model_rf.named_steps['model']"
   ]
  },
  {
   "cell_type": "code",
   "execution_count": null,
   "id": "2d7b2339",
   "metadata": {},
   "outputs": [],
   "source": [
    "pipe_rf_final = SklearnPipeline([\n",
    "    ('preprocess', pred_preprocess),\n",
    "    ('model', pred_model)               \n",
    "])"
   ]
  },
  {
   "cell_type": "code",
   "execution_count": null,
   "id": "447abb53",
   "metadata": {},
   "outputs": [],
   "source": [
    "# retrain, see the reports and predict x_test\n",
    "# model_rf.fit(X_train, y_train)"
   ]
  },
  {
   "cell_type": "markdown",
   "id": "0cd7c9dc",
   "metadata": {},
   "source": [
    "### DecisionTree Model"
   ]
  },
  {
   "cell_type": "code",
   "execution_count": 69,
   "id": "a5774eef",
   "metadata": {},
   "outputs": [],
   "source": [
    "pipe_dt = Pipeline([\n",
    "    ('preprocess', preprocessor),\n",
    "    ('smote', smote),\n",
    "    ('model', DecisionTreeClassifier(random_state=42))\n",
    "])\n",
    "\n",
    "param_dt = {\n",
    "    'model__max_depth': [None, 5, 10],\n",
    "    'model__min_samples_split': [2, 5],\n",
    "    'model__min_samples_leaf': [1, 2, 4],  # Optional but commonly tuned\n",
    "    'model__criterion': ['gini', 'entropy']  # Or ['gini', 'entropy', 'log_loss'] in newer versions\n",
    "}"
   ]
  },
  {
   "cell_type": "code",
   "execution_count": 70,
   "id": "cc528ca2",
   "metadata": {},
   "outputs": [
    {
     "name": "stdout",
     "output_type": "stream",
     "text": [
      "Decision Tree Best Params: {'model__criterion': 'entropy', 'model__max_depth': None, 'model__min_samples_leaf': 1, 'model__min_samples_split': 2}\n"
     ]
    }
   ],
   "source": [
    "grid_dt = GridSearchCV(pipe_dt, param_dt, cv=5, n_jobs=-1, scoring='f1')\n",
    "grid_dt.fit(X_train, y_train)\n",
    "\n",
    "print(\"Decision Tree Best Params:\", grid_dt.best_params_)"
   ]
  },
  {
   "cell_type": "code",
   "execution_count": 71,
   "id": "95684d34",
   "metadata": {},
   "outputs": [],
   "source": [
    "model_dt = grid_dt.best_estimator_"
   ]
  },
  {
   "cell_type": "markdown",
   "id": "4dc45337",
   "metadata": {},
   "source": [
    "### Evaluate __DecisionTree Model__"
   ]
  },
  {
   "cell_type": "code",
   "execution_count": 72,
   "id": "bc901f46",
   "metadata": {},
   "outputs": [
    {
     "name": "stdout",
     "output_type": "stream",
     "text": [
      "              precision    recall  f1-score   support\n",
      "\n",
      "           0       0.92      0.90      0.91      6420\n",
      "           1       0.38      0.44      0.41       872\n",
      "\n",
      "    accuracy                           0.85      7292\n",
      "   macro avg       0.65      0.67      0.66      7292\n",
      "weighted avg       0.86      0.85      0.85      7292\n",
      "\n",
      "Confusion Matrix\n",
      "[[5795  625]\n",
      " [ 485  387]]\n"
     ]
    }
   ],
   "source": [
    "evaluation(model_dt)"
   ]
  },
  {
   "cell_type": "markdown",
   "id": "487269f9",
   "metadata": {},
   "source": [
    "### KNN Model"
   ]
  },
  {
   "cell_type": "code",
   "execution_count": 61,
   "id": "a6f83bad",
   "metadata": {},
   "outputs": [],
   "source": [
    "pipe_knn = Pipeline([\n",
    "    ('preprocess', preprocessor),\n",
    "    ('smote', smote),\n",
    "    ('model', KNeighborsClassifier())\n",
    "])\n",
    "\n",
    "param_knn = {\n",
    "    'model__n_neighbors': [3, 5, 7, 9],\n",
    "    'model__weights': ['uniform', 'distance'],\n",
    "    'model__metric': ['euclidean', 'manhattan']\n",
    "}"
   ]
  },
  {
   "cell_type": "code",
   "execution_count": 62,
   "id": "f2869af7",
   "metadata": {},
   "outputs": [
    {
     "name": "stdout",
     "output_type": "stream",
     "text": [
      "KNN Best Params: {'model__metric': 'manhattan', 'model__n_neighbors': 7, 'model__weights': 'distance'}\n"
     ]
    }
   ],
   "source": [
    "grid_knn = GridSearchCV(pipe_knn, param_knn, cv=5, n_jobs=-1, scoring='f1')\n",
    "grid_knn.fit(X_train, y_train)\n",
    "\n",
    "print(\"KNN Best Params:\", grid_knn.best_params_)"
   ]
  },
  {
   "cell_type": "code",
   "execution_count": 63,
   "id": "ea237385",
   "metadata": {},
   "outputs": [],
   "source": [
    "model_knn = grid_knn.best_estimator_"
   ]
  },
  {
   "cell_type": "markdown",
   "id": "1292dc9a",
   "metadata": {},
   "source": [
    "### Evaluate __KNN Model__"
   ]
  },
  {
   "cell_type": "code",
   "execution_count": null,
   "id": "8eb08570",
   "metadata": {},
   "outputs": [
    {
     "name": "stdout",
     "output_type": "stream",
     "text": [
      "              precision    recall  f1-score   support\n",
      "\n",
      "           0       0.93      0.90      0.91      6420\n",
      "           1       0.40      0.47      0.43       872\n",
      "\n",
      "    accuracy                           0.85      7292\n",
      "   macro avg       0.66      0.69      0.67      7292\n",
      "weighted avg       0.86      0.85      0.86      7292\n",
      "\n",
      "Confusion Matrix\n",
      "[[5793  627]\n",
      " [ 461  411]]\n"
     ]
    }
   ],
   "source": [
    "evaluation(model_knn)"
   ]
  },
  {
   "cell_type": "markdown",
   "id": "187fdb8c",
   "metadata": {},
   "source": [
    "### LogisticRegression Model"
   ]
  },
  {
   "cell_type": "code",
   "execution_count": 65,
   "id": "0756a6d8",
   "metadata": {},
   "outputs": [],
   "source": [
    "pipe_logreg = Pipeline([\n",
    "    ('preprocess', preprocessor),\n",
    "    ('smote', smote),\n",
    "    ('model', LogisticRegression(max_iter=1000, random_state=42))\n",
    "])\n",
    "\n",
    "param_logreg = [\n",
    "    {\n",
    "        'model__solver': ['newton-cg', 'lbfgs', 'sag'],\n",
    "        'model__penalty': ['l2', 'none'],\n",
    "        'model__C': [0.01, 0.1, 1, 10],\n",
    "        'model__class_weight': [None, 'balanced']\n",
    "    },\n",
    "    {\n",
    "        'model__solver': ['liblinear'],\n",
    "        'model__penalty': ['l1', 'l2'],\n",
    "        'model__C': [0.01, 0.1, 1, 10],\n",
    "        'model__class_weight': [None, 'balanced']\n",
    "    },\n",
    "    {\n",
    "        'model__solver': ['saga'],\n",
    "        'model__penalty': ['l1', 'l2', 'elasticnet', 'none'],\n",
    "        'model__C': [0.01, 0.1, 1, 10],\n",
    "        'model__class_weight': [None, 'balanced'],\n",
    "        'model__l1_ratio': [0, 0.5, 1]  # only for elasticnet\n",
    "    }\n",
    "]"
   ]
  },
  {
   "cell_type": "code",
   "execution_count": 66,
   "id": "9b7c4b51",
   "metadata": {},
   "outputs": [
    {
     "name": "stdout",
     "output_type": "stream",
     "text": [
      "Logistic Regression Best Params: {'model__C': 0.01, 'model__class_weight': None, 'model__l1_ratio': 0.5, 'model__penalty': 'elasticnet', 'model__solver': 'saga'}\n"
     ]
    }
   ],
   "source": [
    "grid_logreg = GridSearchCV(pipe_logreg, param_logreg, cv=5, n_jobs=-1, scoring='f1')\n",
    "grid_logreg.fit(X_train, y_train)\n",
    "\n",
    "print(\"Logistic Regression Best Params:\", grid_logreg.best_params_)"
   ]
  },
  {
   "cell_type": "code",
   "execution_count": 67,
   "id": "601d83c8",
   "metadata": {},
   "outputs": [],
   "source": [
    "model_logreg = grid_logreg.best_estimator_"
   ]
  },
  {
   "cell_type": "markdown",
   "id": "07ea42c0",
   "metadata": {},
   "source": [
    "### Evaluate __LogisticRegression Model__"
   ]
  },
  {
   "cell_type": "code",
   "execution_count": 68,
   "id": "7268fac3",
   "metadata": {},
   "outputs": [
    {
     "name": "stdout",
     "output_type": "stream",
     "text": [
      "              precision    recall  f1-score   support\n",
      "\n",
      "           0       0.89      0.53      0.67      6420\n",
      "           1       0.13      0.53      0.21       872\n",
      "\n",
      "    accuracy                           0.53      7292\n",
      "   macro avg       0.51      0.53      0.44      7292\n",
      "weighted avg       0.80      0.53      0.61      7292\n",
      "\n",
      "Confusion Matrix\n",
      "[[3433 2987]\n",
      " [ 414  458]]\n"
     ]
    }
   ],
   "source": [
    "evaluation(model_logreg)"
   ]
  },
  {
   "cell_type": "markdown",
   "id": "0b16ff97",
   "metadata": {},
   "source": [
    "### Save Model"
   ]
  },
  {
   "cell_type": "code",
   "execution_count": null,
   "id": "975a595f",
   "metadata": {},
   "outputs": [
    {
     "data": {
      "text/plain": [
       "['random_forest_model.pkl']"
      ]
     },
     "execution_count": 73,
     "metadata": {},
     "output_type": "execute_result"
    }
   ],
   "source": [
    "joblib.dump(pipe_rf_final, 'random_forest_model.pkl')"
   ]
  },
  {
   "cell_type": "markdown",
   "id": "32d1ad8d",
   "metadata": {},
   "source": [
    "### Load Model"
   ]
  },
  {
   "cell_type": "code",
   "execution_count": null,
   "id": "a8a4932b",
   "metadata": {},
   "outputs": [],
   "source": [
    "# model_rf = joblib.load('random_forest_model.pkl')"
   ]
  }
 ],
 "metadata": {
  "kernelspec": {
   "display_name": "bola",
   "language": "python",
   "name": "python3"
  },
  "language_info": {
   "codemirror_mode": {
    "name": "ipython",
    "version": 3
   },
   "file_extension": ".py",
   "mimetype": "text/x-python",
   "name": "python",
   "nbconvert_exporter": "python",
   "pygments_lexer": "ipython3",
   "version": "3.10.18"
  }
 },
 "nbformat": 4,
 "nbformat_minor": 5
}
